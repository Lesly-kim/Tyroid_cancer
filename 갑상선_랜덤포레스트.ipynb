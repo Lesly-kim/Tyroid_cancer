{
 "cells": [
  {
   "cell_type": "markdown",
   "id": "95673ce8-297e-4c7e-beb5-1eb90fb9991f",
   "metadata": {},
   "source": [
    "### Test_02 랜덤포레스트"
   ]
  },
  {
   "cell_type": "code",
   "execution_count": 76,
   "id": "807433f1-dbcd-4769-b7c3-44d399a1ede3",
   "metadata": {},
   "outputs": [],
   "source": [
    "import pandas as pd\n",
    "import numpy as np\n",
    "from sklearn.model_selection import train_test_split\n",
    "from sklearn.metrics import mean_squared_error\n",
    "from sklearn.ensemble import RandomForestClassifier\n",
    "from sklearn.preprocessing import LabelEncoder\n",
    "from sklearn.metrics import f1_score\n",
    "from sklearn.metrics import accuracy_score\n",
    "from imblearn.over_sampling import SMOTE\n",
    "from sklearn.model_selection import RandomizedSearchCV\n",
    "from sklearn.preprocessing import StandardScaler"
   ]
  },
  {
   "cell_type": "markdown",
   "id": "f85a731a-8455-4d54-8c36-fb19ca4b6510",
   "metadata": {},
   "source": [
    "- train.csv [파일]\n",
    "```\n",
    "ID : 샘플별 고유 ID\n",
    "Age : 환자의 나이\n",
    "Gender : 성별\n",
    "Country : 국적\n",
    "Race : 인종\n",
    "Family_Background : 가족력 여부\n",
    "Radiation_History : 방사선 노출 이력\n",
    "Iodine_Deficiency : 요오드 결핍 여부\n",
    "Smoke : 흡연 여부\n",
    "Weight_Risk : 체중 관련 위험도\n",
    "Diabetes : 당뇨병 여부\n",
    "Nodule_Size : 갑상선 결절 크기\n",
    "TSH_Result : TSH 호르몬 검사 결과\n",
    "T4_Result : T4 호르몬 검사 결과\n",
    "T3_Result : T3 호르몬 검사 결과\n",
    "Cancer : 갑상선암 여부 (0: 양성, 1: 악성)\n",
    "```"
   ]
  },
  {
   "cell_type": "markdown",
   "id": "49901d9f-c09b-4734-bb31-3ed860838d89",
   "metadata": {},
   "source": [
    "### 범주형 데이터인 변수\n",
    "```\n",
    "Gender : 성별\n",
    "Country : 국적\n",
    "Race : 인종\n",
    "Family_Background : 가족력 여부\n",
    "Radiation_History : 방사선 노출 이력\n",
    "Iodine_Deficiency : 요오드 결핍 여부\n",
    "Smoke : 흡연 여부\n",
    "Weight_Risk : 체중 관련 위험도\n",
    "Diabetes : 당뇨병 여부\n",
    "```"
   ]
  },
  {
   "cell_type": "code",
   "execution_count": 11,
   "id": "066e6b85-612b-4d78-a36d-3b6164e1a61f",
   "metadata": {},
   "outputs": [],
   "source": [
    "# 학습 데이터\n",
    "train = pd.read_csv('open/train.csv')\n",
    "# 검증 데이터\n",
    "test = pd.read_csv('open/test.csv')"
   ]
  },
  {
   "cell_type": "code",
   "execution_count": 13,
   "id": "284df81e-0a9a-4f7a-8264-2d31c1259e3f",
   "metadata": {},
   "outputs": [
    {
     "data": {
      "text/plain": [
       "Cancer\n",
       "0    0.880001\n",
       "1    0.119999\n",
       "Name: proportion, dtype: float64"
      ]
     },
     "execution_count": 13,
     "metadata": {},
     "output_type": "execute_result"
    }
   ],
   "source": [
    "train['Cancer'].value_counts(normalize=True)\n",
    "# 0 : 양성, 1: 악성"
   ]
  },
  {
   "cell_type": "code",
   "execution_count": 58,
   "id": "c9d5dde3-5c80-4b07-8ed0-ea62e37eed3d",
   "metadata": {},
   "outputs": [
    {
     "name": "stdout",
     "output_type": "stream",
     "text": [
      "갑상선암 진단 학습 데이터셋 크기 :  (87159, 16)\n",
      "<class 'pandas.core.frame.DataFrame'>\n",
      "RangeIndex: 87159 entries, 0 to 87158\n",
      "Data columns (total 16 columns):\n",
      " #   Column             Non-Null Count  Dtype  \n",
      "---  ------             --------------  -----  \n",
      " 0   ID                 87159 non-null  object \n",
      " 1   Age                87159 non-null  int64  \n",
      " 2   Gender             87159 non-null  object \n",
      " 3   Country            87159 non-null  object \n",
      " 4   Race               87159 non-null  object \n",
      " 5   Family_Background  87159 non-null  object \n",
      " 6   Radiation_History  87159 non-null  object \n",
      " 7   Iodine_Deficiency  87159 non-null  object \n",
      " 8   Smoke              87159 non-null  object \n",
      " 9   Weight_Risk        87159 non-null  object \n",
      " 10  Diabetes           87159 non-null  object \n",
      " 11  Nodule_Size        87159 non-null  float64\n",
      " 12  TSH_Result         87159 non-null  float64\n",
      " 13  T4_Result          87159 non-null  float64\n",
      " 14  T3_Result          87159 non-null  float64\n",
      " 15  Cancer             87159 non-null  int64  \n",
      "dtypes: float64(4), int64(2), object(10)\n",
      "memory usage: 10.6+ MB\n"
     ]
    }
   ],
   "source": [
    "print('갑상선암 진단 학습 데이터셋 크기 : ', train.shape)\n",
    "train.info()"
   ]
  },
  {
   "cell_type": "code",
   "execution_count": 60,
   "id": "1aa9d815-1eb7-479f-81c0-721e531e55d1",
   "metadata": {},
   "outputs": [
    {
     "data": {
      "text/plain": [
       "<Axes: >"
      ]
     },
     "execution_count": 60,
     "metadata": {},
     "output_type": "execute_result"
    },
    {
     "data": {
      "image/png": "[encoded data removed]",
      "text/plain": [
       "<Figure size 640x480 with 1 Axes>"
      ]
     },
     "metadata": {},
     "output_type": "display_data"
    }
   ],
   "source": [
    "train.boxplot()"
   ]
  },
  {
   "cell_type": "code",
   "execution_count": null,
   "id": "aee91688-7362-48fb-9636-de31dfa5fe0b",
   "metadata": {},
   "outputs": [],
   "source": []
  },
  {
   "cell_type": "code",
   "execution_count": null,
   "id": "91f6d671-4571-42bf-80ec-726902896e3c",
   "metadata": {},
   "outputs": [],
   "source": []
  },
  {
   "cell_type": "code",
   "execution_count": null,
   "id": "5a1c58ad-9161-4bc0-9f34-9cac3a3ea3c4",
   "metadata": {},
   "outputs": [],
   "source": []
  },
  {
   "cell_type": "code",
   "execution_count": null,
   "id": "0e58c4d2-d3f5-47e6-abb6-ddb6a1e923fc",
   "metadata": {},
   "outputs": [],
   "source": []
  },
  {
   "cell_type": "code",
   "execution_count": null,
   "id": "7d5a2f5a-0ff7-4670-943e-fa1b7a238f23",
   "metadata": {},
   "outputs": [],
   "source": []
  },
  {
   "cell_type": "code",
   "execution_count": null,
   "id": "56dd0984-40f1-45d1-9462-246c7488f2af",
   "metadata": {},
   "outputs": [],
   "source": []
  },
  {
   "cell_type": "code",
   "execution_count": null,
   "id": "43436aca-f27b-4018-9ead-0c420e196a14",
   "metadata": {},
   "outputs": [],
   "source": []
  },
  {
   "cell_type": "markdown",
   "id": "5083fef6-a9aa-40fb-a0ff-4a10a9216943",
   "metadata": {},
   "source": [
    "### 데이터 라벨링"
   ]
  },
  {
   "cell_type": "code",
   "execution_count": 68,
   "id": "580c658a-c312-4653-8862-ab8a7336c149",
   "metadata": {},
   "outputs": [
    {
     "name": "stderr",
     "output_type": "stream",
     "text": [
      "/var/folders/sd/4fdm4yws541djlmflm16vjv40000gn/T/ipykernel_10987/1645282988.py:17: SettingWithCopyWarning: \n",
      "A value is trying to be set on a copy of a slice from a DataFrame.\n",
      "Try using .loc[row_indexer,col_indexer] = value instead\n",
      "\n",
      "See the caveats in the documentation: https://pandas.pydata.org/pandas-docs/stable/user_guide/indexing.html#returning-a-view-versus-a-copy\n",
      "  train_encoded['Cancer'] = train['Cancer'].values\n"
     ]
    },
    {
     "data": {
      "text/plain": [
       "Index(['ID', 'Age', 'Gender', 'Family_Background', 'Radiation_History',\n",
       "       'Iodine_Deficiency', 'Smoke', 'Weight_Risk', 'Diabetes', 'Nodule_Size',\n",
       "       'TSH_Result', 'T4_Result', 'T3_Result', 'Country_BRA', 'Country_CHN',\n",
       "       'Country_DEU', 'Country_GBR', 'Country_IND', 'Country_JPN',\n",
       "       'Country_KOR', 'Country_NGA', 'Country_RUS', 'Country_USA', 'Race_AFR',\n",
       "       'Race_ASN', 'Race_CAU', 'Race_HSP', 'Race_MDE', 'Cancer'],\n",
       "      dtype='object')"
      ]
     },
     "execution_count": 68,
     "metadata": {},
     "output_type": "execute_result"
    }
   ],
   "source": [
    "all_data = pd.concat([train.drop(columns=['Cancer']), test], axis=0)\n",
    "label_cols = ['Gender', 'Family_Background', 'Radiation_History',\n",
    "              'Iodine_Deficiency', 'Smoke', 'Diabetes', 'Weight_Risk']\n",
    "\n",
    "# 1. Label Encoding 적용할 컬럼\n",
    "le = LabelEncoder()\n",
    "for col in label_cols:\n",
    "    all_data[col] = le.fit_transform(all_data[col].astype(str))\n",
    "\n",
    "# 2. One-Hot Encoding 적용할 컬럼\n",
    "one_hot_cols = ['Country', 'Race']\n",
    "\n",
    "all_data = pd.get_dummies(all_data, columns=one_hot_cols)\n",
    "\n",
    "# 다시 train/test로 분할\n",
    "train_encoded = all_data.iloc[:len(train), :]\n",
    "train_encoded['Cancer'] = train['Cancer'].values\n",
    "test_encoded = all_data.iloc[len(train):, :]\n",
    "train_encoded.columns"
   ]
  },
  {
   "cell_type": "code",
   "execution_count": 19,
   "id": "830badfd-0843-436e-8890-29576f8190ef",
   "metadata": {},
   "outputs": [
    {
     "name": "stdout",
     "output_type": "stream",
     "text": [
      "test f1score: 0.6132513920007006\n"
     ]
    }
   ],
   "source": [
    "x = train_encoded.drop(['ID', 'Cancer'], axis = 1)\n",
    "y = train_encoded['Cancer']\n",
    "\n",
    "x_train, x_test, y_train, y_test = train_test_split(x, y)\n",
    "\n",
    "md = RandomForestClassifier()\n",
    "md.fit(x_train, y_train)\n",
    "\n",
    "pred = md.predict(x_test)\n",
    "\n",
    "print('test f1score:', f1_score(y_test, pred, average='macro'))"
   ]
  },
  {
   "cell_type": "code",
   "execution_count": 74,
   "id": "f0f23e31-eaa0-48b1-8b57-09adaff4e513",
   "metadata": {},
   "outputs": [
    {
     "name": "stdout",
     "output_type": "stream",
     "text": [
      "test f1score: 0.7102144335942571\n",
      "test accuracy: 0.8849013308857274\n"
     ]
    },
    {
     "name": "stderr",
     "output_type": "stream",
     "text": [
      "/opt/anaconda3/lib/python3.12/site-packages/sklearn/base.py:486: UserWarning: X has feature names, but RandomForestClassifier was fitted without feature names\n",
      "  warnings.warn(\n"
     ]
    }
   ],
   "source": [
    "x = train_encoded.drop(['ID', 'Cancer'], axis = 1)\n",
    "y = train_encoded['Cancer']\n",
    "dum_test = test_encoded.drop('ID', axis=1)\n",
    "\n",
    "# 스케일링\n",
    "scaler = StandardScaler()\n",
    "x = scaler.fit_transform(x)\n",
    "\n",
    "x_train, x_test, y_train, y_test = train_test_split(x, y)\n",
    "\n",
    "md = RandomForestClassifier(\n",
    "    n_estimators=300,\n",
    "    max_depth=10,\n",
    "    min_samples_split=5,\n",
    "    class_weight='balanced_subsample',\n",
    "    random_state=42\n",
    ")\n",
    "md.fit(x_train, y_train)\n",
    "\n",
    "pred = md.predict(x_test)\n",
    "\n",
    "print('test f1score:', f1_score(y_test, pred, average='macro'))\n",
    "print ('test accuracy:', accuracy_score(y_test, pred))\n",
    "\n",
    "pred_test = md.predict(dum_test)\n",
    "\n",
    "sumission = pd.DataFrame()\n",
    "sumission['ID'] = test['ID']\n",
    "sumission['Cancer'] = pred_test\n",
    "# sumission.to_csv('sample_submission.csv', index = False, mode = 'a')"
   ]
  },
  {
   "cell_type": "markdown",
   "id": "22a28d69-615c-4536-91bc-26db58e6a75e",
   "metadata": {},
   "source": [
    "```\n",
    "\n",
    "---------------------------------------------------------------------------------------------\n",
    "smote 적용\n",
    "\n",
    "\n",
    "```"
   ]
  },
  {
   "cell_type": "code",
   "execution_count": 1,
   "id": "dddd32cb-9a69-4e2c-9fc8-e53a7cf73bdc",
   "metadata": {},
   "outputs": [
    {
     "ename": "NameError",
     "evalue": "name 'train_encoded' is not defined",
     "output_type": "error",
     "traceback": [
      "\u001b[0;31m---------------------------------------------------------------------------\u001b[0m",
      "\u001b[0;31mNameError\u001b[0m                                 Traceback (most recent call last)",
      "Cell \u001b[0;32mIn[1], line 7\u001b[0m\n\u001b[1;32m      4\u001b[0m \u001b[38;5;28;01mfrom\u001b[39;00m \u001b[38;5;21;01msklearn\u001b[39;00m\u001b[38;5;21;01m.\u001b[39;00m\u001b[38;5;21;01mmetrics\u001b[39;00m \u001b[38;5;28;01mimport\u001b[39;00m f1_score\n\u001b[1;32m      6\u001b[0m \u001b[38;5;66;03m# 1. 데이터 분리\u001b[39;00m\n\u001b[0;32m----> 7\u001b[0m x \u001b[38;5;241m=\u001b[39m train_encoded\u001b[38;5;241m.\u001b[39mdrop([\u001b[38;5;124m'\u001b[39m\u001b[38;5;124mID\u001b[39m\u001b[38;5;124m'\u001b[39m, \u001b[38;5;124m'\u001b[39m\u001b[38;5;124mCancer\u001b[39m\u001b[38;5;124m'\u001b[39m], axis\u001b[38;5;241m=\u001b[39m\u001b[38;5;241m1\u001b[39m)\n\u001b[1;32m      8\u001b[0m y \u001b[38;5;241m=\u001b[39m train_encoded[\u001b[38;5;124m'\u001b[39m\u001b[38;5;124mCancer\u001b[39m\u001b[38;5;124m'\u001b[39m]\n\u001b[1;32m      9\u001b[0m dum_test \u001b[38;5;241m=\u001b[39m test_encoded\u001b[38;5;241m.\u001b[39mdrop(\u001b[38;5;124m'\u001b[39m\u001b[38;5;124mID\u001b[39m\u001b[38;5;124m'\u001b[39m, axis\u001b[38;5;241m=\u001b[39m\u001b[38;5;241m1\u001b[39m)\n",
      "\u001b[0;31mNameError\u001b[0m: name 'train_encoded' is not defined"
     ]
    }
   ],
   "source": [
    "import pandas as pd\n",
    "from sklearn.ensemble import RandomForestClassifier\n",
    "from sklearn.model_selection import RandomizedSearchCV, train_test_split\n",
    "from sklearn.metrics import f1_score\n",
    "\n",
    "# 1. 데이터 분리\n",
    "x = train_encoded.drop(['ID', 'Cancer'], axis=1)\n",
    "y = train_encoded['Cancer']\n",
    "dum_test = test_encoded.drop('ID', axis=1)\n",
    "\n",
    "# 2. 하이퍼파라미터 그리드 정의\n",
    "param_grid = {\n",
    "    'n_estimators': [100, 300, 500],\n",
    "    'max_depth': [5, 10, 15, None],\n",
    "    'min_samples_split': [2, 5, 10],\n",
    "    'min_samples_leaf': [1, 2, 4],\n",
    "    'class_weight': ['balanced', 'balanced_subsample']\n",
    "}\n",
    "\n",
    "# 3. 모델과 RandomizedSearchCV 설정\n",
    "search = RandomizedSearchCV(\n",
    "    estimator=RandomForestClassifier(random_state=42),\n",
    "    param_distributions=param_grid,\n",
    "    n_iter=20,  # 실험 횟수\n",
    "    scoring='f1_macro',  # 평가 지표\n",
    "    cv=5,  # 교차 검증 folds 수\n",
    "    random_state=42,\n",
    "    n_jobs=-1  # 가능한 모든 코어 사용\n",
    ")\n",
    "\n",
    "# 4. 하이퍼파라미터 탐색 수행\n",
    "search.fit(x, y)\n",
    "best_model = search.best_estimator_\n",
    "\n",
    "# 5. 성능 평가용으로 train/test 분리 후 평가\n",
    "x_train, x_test, y_train, y_test = train_test_split(x, y, test_size=0.2, random_state=42)\n",
    "best_model.fit(x_train, y_train)\n",
    "pred = best_model.predict(x_test)\n",
    "print('test f1score:', f1_score(y_test, pred, average='macro'))\n",
    "\n",
    "# 6. 최종 예측 후 제출 파일 생성\n",
    "pred_test = best_model.predict(dum_test)\n",
    "\n",
    "submission = pd.DataFrame({\n",
    "    'ID': test['ID'],\n",
    "    'Cancer': pred_test\n",
    "})\n",
    "# submission.to_csv('sample_submission.csv', index=False)\n",
    "\n",
    "# 7. 최고 성능 파라미터 출력\n",
    "print('Best Parameters:', search.best_params_)\n"
   ]
  },
  {
   "cell_type": "markdown",
   "id": "6dd022bb-e803-4be1-af32-dfa3867dd16d",
   "metadata": {},
   "source": [
    "##### smote를 했을 때 f1 score가 더 떨어지는 경향 존재 -> 안써야겠다"
   ]
  },
  {
   "cell_type": "code",
   "execution_count": 26,
   "id": "269df374-e18e-4e2a-95b0-46d71f639c50",
   "metadata": {},
   "outputs": [
    {
     "name": "stderr",
     "output_type": "stream",
     "text": [
      "/opt/anaconda3/lib/python3.12/site-packages/imblearn/ensemble/_forest.py:577: FutureWarning: The default of `sampling_strategy` will change from `'auto'` to `'all'` in version 0.13. This change will follow the implementation proposed in the original paper. Set to `'all'` to silence this warning and adopt the future behaviour.\n",
      "  warn(\n",
      "/opt/anaconda3/lib/python3.12/site-packages/imblearn/ensemble/_forest.py:589: FutureWarning: The default of `replacement` will change from `False` to `True` in version 0.13. This change will follow the implementation proposed in the original paper. Set to `True` to silence this warning and adopt the future behaviour.\n",
      "  warn(\n",
      "/opt/anaconda3/lib/python3.12/site-packages/imblearn/ensemble/_forest.py:601: FutureWarning: The default of `bootstrap` will change from `True` to `False` in version 0.13. This change will follow the implementation proposed in the original paper. Set to `False` to silence this warning and adopt the future behaviour.\n",
      "  warn(\n"
     ]
    },
    {
     "name": "stdout",
     "output_type": "stream",
     "text": [
      "test f1score: 0.6646154918723708\n"
     ]
    }
   ],
   "source": [
    "from imblearn.ensemble import BalancedRandomForestClassifier\n",
    "\n",
    "x = train_encoded.drop(['ID', 'Cancer'], axis = 1)\n",
    "y = train_encoded['Cancer']\n",
    "dum_test = test_encoded.drop('ID', axis=1)\n",
    "\n",
    "x_train, x_test, y_train, y_test = train_test_split(x, y)\n",
    "\n",
    "model = BalancedRandomForestClassifier(n_estimators=300, random_state=42)\n",
    "model.fit(x_train, y_train)\n",
    "\n",
    "pred = md.predict(x_test)\n",
    "\n",
    "print('test f1score:', f1_score(y_test, pred, average='macro'))\n"
   ]
  },
  {
   "cell_type": "code",
   "execution_count": null,
   "id": "7c4ce0b8-8123-462d-954b-5d6545c1855e",
   "metadata": {},
   "outputs": [],
   "source": []
  }
 ],
 "metadata": {
  "kernelspec": {
   "display_name": "Python 3 (ipykernel)",
   "language": "python",
   "name": "python3"
  },
  "language_info": {
   "codemirror_mode": {
    "name": "ipython",
    "version": 3
   },
   "file_extension": ".py",
   "mimetype": "text/x-python",
   "name": "python",
   "nbconvert_exporter": "python",
   "pygments_lexer": "ipython3",
   "version": "3.12.4"
  }
 },
 "nbformat": 4,
 "nbformat_minor": 5
}
